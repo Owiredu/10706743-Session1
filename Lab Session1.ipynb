{
 "cells": [
  {
   "cell_type": "markdown",
   "id": "published-doctor",
   "metadata": {},
   "source": [
    "# CSCD 319 - COMPUTER VISION\n",
    "\n",
    "## LAB SESSION 1: \n",
    "### TOPIC: OVERVIEW OF PYTHON PROGRAMMING AND THE JUPYTER NOTEBOOK"
   ]
  },
  {
   "cell_type": "markdown",
   "id": "fewer-sampling",
   "metadata": {},
   "source": [
    "#### BASICS OF PYTHON PROGRAMMING"
   ]
  },
  {
   "cell_type": "code",
   "execution_count": null,
   "id": "representative-convergence",
   "metadata": {},
   "outputs": [],
   "source": [
    "# FIRST PYTHON CODE\n",
    "\n",
    "print('Hello World')"
   ]
  },
  {
   "cell_type": "markdown",
   "id": "handy-milton",
   "metadata": {},
   "source": [
    "##### PYTHON INDENTATION:\n",
    "\n",
    "Python uses indentation to indicate a block of code. \n",
    "\n",
    "You can take it like curly brackets used in other programming languages to indicate code blocks.\n",
    "\n",
    "Python will give an error if you skip an indentation or the number of indentation spaces in a block differs.\n",
    "\n",
    "The programmer gets to decide the number of spaces to indent the code. But four spaces is the default in Jupyter Notebook \n",
    "\n",
    "\n",
    "    \n"
   ]
  },
  {
   "cell_type": "code",
   "execution_count": null,
   "id": "enclosed-george",
   "metadata": {},
   "outputs": [],
   "source": [
    "#Example Code\n",
    "# Write a python program to display the even numbers between 20 and 100\n",
    "var1 = 34\n",
    "for number in range(21, 100):\n",
    "    #Check if number is even\n",
    "    global var1 \n",
    "    var2 = 56\n",
    "    if number % 2 == 0:\n",
    "        #Print out even number\n",
    "        print(number, ' is even')                                                  \n",
    "    else:\n",
    "        #Indicate that number is odd\n",
    "        print(str(number) + ' is odd')\n",
    "        "
   ]
  },
  {
   "cell_type": "markdown",
   "id": "breeding-resort",
   "metadata": {},
   "source": [
    "##### VARIABLES IN PYTHON:\n",
    "\n",
    "Containers for storing values. Python has no command for declaring a variable: like \"int a\" in C++ or \"let num\" in JavaScript.\n",
    "\n",
    "You do not need to declare variables with any particular type and they can actually be changed after they have been set.\n",
    "\n",
    "Casting can be used to specify the data type of a variable.\n",
    "\n",
    "Variable names are case-sensitive.\n",
    "\n",
    "You may also unpack a collection of values into a variable.\n",
    "\n",
    "**Global variables are variables that are created outside of functions. They may be used in function scopes but should be referenced as such. I made a video tutorial to help you out. Find it here: https://youtu.be/rZ6POn6Saa4 **\n",
    "\n",
    "Variables can store different data types and some examples of data types in python can be found below\n",
    "\n",
    "Text Type:\tstr\\\n",
    "Numeric Types:\tint, float, complex\\\n",
    "Sequence Types:\tlist, tuple, range\\\n",
    "Mapping Type:\tdict\\\n",
    "Set Types:\tset, frozenset\\\n",
    "Boolean Type:\tbool\\\n",
    "Binary Types:\tbytes, bytearray, memoryview\n",
    "    "
   ]
  },
  {
   "cell_type": "code",
   "execution_count": null,
   "id": "failing-garden",
   "metadata": {},
   "outputs": [],
   "source": [
    "# Demonstration of variable declaration and change in type\n",
    "x = 5\n",
    "print(x)"
   ]
  },
  {
   "cell_type": "code",
   "execution_count": null,
   "id": "answering-valuation",
   "metadata": {},
   "outputs": [],
   "source": [
    "print(type(x))"
   ]
  },
  {
   "cell_type": "code",
   "execution_count": null,
   "id": "derived-economics",
   "metadata": {},
   "outputs": [],
   "source": [
    "x = 'Akua'         # You may assign x to a string value\n",
    "print(x)"
   ]
  },
  {
   "cell_type": "code",
   "execution_count": null,
   "id": "handed-yugoslavia",
   "metadata": {},
   "outputs": [],
   "source": [
    "print(type(x))"
   ]
  },
  {
   "cell_type": "code",
   "execution_count": null,
   "id": "minute-greene",
   "metadata": {},
   "outputs": [],
   "source": [
    "# Casting variables in Python\n",
    "y = str(3)                    # Casting y as a string\n",
    "print(y)"
   ]
  },
  {
   "cell_type": "code",
   "execution_count": null,
   "id": "grave-roman",
   "metadata": {},
   "outputs": [],
   "source": [
    "print(type(y))"
   ]
  },
  {
   "cell_type": "code",
   "execution_count": null,
   "id": "coordinate-present",
   "metadata": {},
   "outputs": [],
   "source": [
    "# String concatenation to ensure that the type casting worked.\n",
    "print(y + ' is my favorite number')"
   ]
  },
  {
   "cell_type": "code",
   "execution_count": null,
   "id": "willing-convergence",
   "metadata": {},
   "outputs": [],
   "source": [
    "# Demonstrating case-sensitivity in Python \n",
    "a = 'lowerCase'\n",
    "A = 'upperCase'\n",
    "\n",
    "print(a)\n",
    "print(A)"
   ]
  },
  {
   "cell_type": "code",
   "execution_count": null,
   "id": "honest-jason",
   "metadata": {},
   "outputs": [],
   "source": [
    "# Unpacking a collection of values into variables\n",
    "names = ['Frank Afum', 'Yaw Daboh', 'Adwoa Mansa', 'Kwabena Mensah']\n",
    "\n",
    "f, y, a, k = names        #Assigning names to initials\n",
    "print(f)\n",
    "print(y)\n",
    "print(a)\n",
    "print(k)"
   ]
  },
  {
   "cell_type": "markdown",
   "id": "fluid-article",
   "metadata": {},
   "source": [
    "##### PYTHON DATA STRUCTURES\n",
    "There are two groups of data structures in Python.\\\n",
    "** 1. Built-in Data Structures. E.g List, Dictionary, Tuple, Sets\\\n",
    "** 2. User-defined Data Structures. E.g Arrays, Stack, Queue, Trees, Graphs\n",
    "\n",
    "Read more on each of the Built-in Data Structures via the links below:\n",
    "    \n",
    "1. Lists: https://www.w3schools.com/python/python_lists.asp\n",
    "2. Dictionary: https://realpython.com/python-dicts/ \n",
    "3. Tuple: https://www.datacamp.com/community/tutorials/python-tuples?\n",
    "4. Sets: https://www.programiz.com/python-programming/set"
   ]
  },
  {
   "cell_type": "markdown",
   "id": "ahead-layout",
   "metadata": {},
   "source": [
    "##### FUNCTIONS IN PYTHON\n",
    "\n",
    "A python function is a block of code that runs when it is called. It can receive parameters and return data as a result.\\\n",
    "The **def** keyword is used to declare functions in python.\\\n",
    "Functions are called by using the name of the function with parenthesis attached. E.g function_name()\n",
    "\n",
    "NB:\\\n",
    "A **parameter** is the variable listed inside the parentheses in the function definition.\\\n",
    "An **argument** is the value that is sent to the function when it is called."
   ]
  },
  {
   "cell_type": "code",
   "execution_count": null,
   "id": "southern-deposit",
   "metadata": {},
   "outputs": [],
   "source": [
    "# A function to sum whole numbers up to a given value. 0, 1, 2, 3, 4 = 0 + 1 + 2 + 3 + 4 = 10\n",
    "# For instance we may decide to sum up all whole numbers up to 50.\n",
    "\n",
    "def sum_whole_numbers(upperLimit):              # We pass a parameter (upperLimit) when declaring the function\n",
    "    sum = (upperLimit / 2) * (upperLimit + 1)\n",
    "    return sum"
   ]
  },
  {
   "cell_type": "code",
   "execution_count": null,
   "id": "protected-library",
   "metadata": {},
   "outputs": [],
   "source": [
    "sum_whole_numbers(80)        # We pass an argument (80) when calling the function."
   ]
  },
  {
   "cell_type": "code",
   "execution_count": null,
   "id": "loaded-wholesale",
   "metadata": {},
   "outputs": [],
   "source": [
    "# FUNCTION DECLARATION WITH THE **LAMBDA KEYWORD\n",
    "# Lambda functions are mostly smaller functions that are classified to be anonymous in nature.\n",
    "# This is because these functions do not bear function names\n",
    "# They may take several arguments but can only have one expression\n",
    "\n",
    "# Example of a lambda function to add three values and then assign the result to a variable\n",
    "# lambda arguments: expression\n",
    "add = lambda x, y, z: x + y + z;\n",
    "\n",
    "print(add(67, 46, 59))"
   ]
  },
  {
   "cell_type": "code",
   "execution_count": null,
   "id": "bottom-keeping",
   "metadata": {},
   "outputs": [],
   "source": []
  },
  {
   "cell_type": "markdown",
   "id": "terminal-sentence",
   "metadata": {},
   "source": [
    "### ASSIGNMENT 1 - 5 marks\n",
    "\n",
    "All codes should be written in Python 3.x\n",
    "\n",
    "**SUBMISSION DEADLINE:** FRIDAY, APRIL 23rd, 2021."
   ]
  },
  {
   "cell_type": "markdown",
   "id": "desperate-morris",
   "metadata": {},
   "source": [
    "##### QUESTION 1\n",
    "Write a program to display the square root of even numbers between 1 and 50"
   ]
  },
  {
   "cell_type": "code",
   "execution_count": 3,
   "id": "contained-consultation",
   "metadata": {},
   "outputs": [
    {
     "output_type": "execute_result",
     "data": {
      "text/plain": [
       "['Square root of 2 = 1.4142135623730951',\n",
       " 'Square root of 4 = 2.0',\n",
       " 'Square root of 6 = 2.449489742783178',\n",
       " 'Square root of 8 = 2.8284271247461903',\n",
       " 'Square root of 10 = 3.1622776601683795',\n",
       " 'Square root of 12 = 3.4641016151377544',\n",
       " 'Square root of 14 = 3.7416573867739413',\n",
       " 'Square root of 16 = 4.0',\n",
       " 'Square root of 18 = 4.242640687119285',\n",
       " 'Square root of 20 = 4.47213595499958',\n",
       " 'Square root of 22 = 4.69041575982343',\n",
       " 'Square root of 24 = 4.898979485566356',\n",
       " 'Square root of 26 = 5.0990195135927845',\n",
       " 'Square root of 28 = 5.291502622129181',\n",
       " 'Square root of 30 = 5.477225575051661',\n",
       " 'Square root of 32 = 5.656854249492381',\n",
       " 'Square root of 34 = 5.830951894845301',\n",
       " 'Square root of 36 = 6.0',\n",
       " 'Square root of 38 = 6.164414002968976',\n",
       " 'Square root of 40 = 6.324555320336759',\n",
       " 'Square root of 42 = 6.48074069840786',\n",
       " 'Square root of 44 = 6.6332495807108',\n",
       " 'Square root of 46 = 6.782329983125268',\n",
       " 'Square root of 48 = 6.928203230275509']"
      ]
     },
     "metadata": {},
     "execution_count": 3
    }
   ],
   "source": [
    "sqrt_even_nums = list(map(lambda x: f'Square root of {x} = {pow(x, 0.5)}', range(2, 50, 2)))\n",
    "sqrt_even_nums"
   ]
  },
  {
   "cell_type": "markdown",
   "id": "animal-position",
   "metadata": {},
   "source": [
    "##### QUESTION 2\n",
    "\n",
    "Write a program to generate an array of 10 random whole numbers with the lower limit and the upper limit coming from a user input.\\\n",
    "This means that a user would define the lower boundary of the array as well as the upper boundary by providing an input for both values.\\\n",
    "And then you generate an array/list of random numbers that falls within the given user input.\n",
    "\n",
    "**Hint:** You may use the random method imported to help you generate the numbers. "
   ]
  },
  {
   "cell_type": "code",
   "execution_count": 4,
   "id": "faced-panic",
   "metadata": {},
   "outputs": [
    {
     "output_type": "execute_result",
     "data": {
      "text/plain": [
       "[1, 17, 9, 23, 4, 8, 5, 35, 24, 36]"
      ]
     },
     "metadata": {},
     "execution_count": 4
    }
   ],
   "source": [
    "import random\n",
    "\n",
    "lower_boundary = int(input('Enter the lower boundary: '))\n",
    "upper_boundary = int(input('Enter the upper boundary: '))\n",
    "rand_array = [random.randrange(lower_boundary, upper_boundary + 1, step=1) for _ in range(10)]\n",
    "rand_array"
   ]
  },
  {
   "cell_type": "markdown",
   "id": "medium-williams",
   "metadata": {},
   "source": [
    "##### QUESTION 3\n",
    "\n",
    "Write a function that takes the array generated above in Question 2 as an argument and perform both the addition and multiplication operations on the array.\\\n",
    "Print out the results of each operation."
   ]
  },
  {
   "cell_type": "code",
   "execution_count": 5,
   "id": "formed-fashion",
   "metadata": {},
   "outputs": [
    {
     "output_type": "stream",
     "name": "stdout",
     "text": [
      "Sum of array elements: 162\nProduct of array elements: 17026329600\n"
     ]
    }
   ],
   "source": [
    "from functools import reduce\n",
    "\n",
    "def sum_mul_arr(array):\n",
    "    \"\"\"\n",
    "    Performs addition and multiplication operations of the elements of a given array\n",
    "    \"\"\"\n",
    "    arr_sum = reduce(lambda x, y: x + y, array)\n",
    "    arr_mul = reduce(lambda x, y: x * y, array)\n",
    "    print(f'Sum of array elements: {arr_sum}')\n",
    "    print(f'Product of array elements: {arr_mul}')\n",
    "\n",
    "sum_mul_arr(rand_array)"
   ]
  },
  {
   "cell_type": "markdown",
   "id": "historical-blake",
   "metadata": {},
   "source": [
    "##### QUESTION 4\n",
    "Let us practise with the popular Collatz sequence.\n",
    "\n",
    "Write a function named collatz() that has one parameter named number. If \n",
    "number is even, then collatz() should print number // 2 and return the resulting value.\\\n",
    "If number is odd, then collatz() should print and return (3 * number + 1).\n",
    "\n",
    "Then write a program that lets the user type in an integer and that keeps \n",
    "calling collatz() on that number until the function returns the value 1. "
   ]
  },
  {
   "cell_type": "code",
   "execution_count": null,
   "id": "collected-patio",
   "metadata": {},
   "outputs": [],
   "source": [
    "def collatz(number):\n",
    "    \"\"\"\n",
    "    Generates a collatz sequence for a given number\n",
    "    \"\"\"\n",
    "    if number == 1:\n",
    "        return\n",
    "    else:\n",
    "        if number % 2 == 0:\n",
    "            number = number // 2\n",
    "        else:\n",
    "            number = 3 * number + 1\n",
    "        print(number)\n",
    "        return collatz(number)\n",
    "\n",
    "number = int(input('Enter an integer: '))\n",
    "collatz(number)"
   ]
  },
  {
   "cell_type": "code",
   "execution_count": null,
   "metadata": {},
   "outputs": [],
   "source": []
  }
 ],
 "metadata": {
  "kernelspec": {
   "name": "python374jvsc74a57bd01c39c060c7a254c9b93c63c68fb9c3406a90e766819675754b569d50b8de6dd2",
   "display_name": "Python 3.7.4 64-bit"
  },
  "language_info": {
   "codemirror_mode": {
    "name": "ipython",
    "version": 3
   },
   "file_extension": ".py",
   "mimetype": "text/x-python",
   "name": "python",
   "nbconvert_exporter": "python",
   "pygments_lexer": "ipython3",
   "version": "3.7.4"
  }
 },
 "nbformat": 4,
 "nbformat_minor": 5
}